{
 "cells": [
  {
   "cell_type": "code",
   "execution_count": 1,
   "metadata": {},
   "outputs": [],
   "source": [
    "import numpy as np"
   ]
  },
  {
   "cell_type": "code",
   "execution_count": 6,
   "metadata": {},
   "outputs": [],
   "source": [
    "import tensorflow as tf\n",
    "\n",
    "from tensorflow.keras.applications.imagenet_utils import preprocess_input"
   ]
  },
  {
   "cell_type": "code",
   "execution_count": 7,
   "metadata": {},
   "outputs": [],
   "source": [
    "import data_utils as data_utils\n",
    "\n",
    "import importlib\n",
    "\n",
    "import time"
   ]
  },
  {
   "cell_type": "code",
   "execution_count": 8,
   "metadata": {},
   "outputs": [],
   "source": [
    "# (width, height) format\n",
    "img_shape = (1024, 512)"
   ]
  },
  {
   "cell_type": "code",
   "execution_count": null,
   "metadata": {},
   "outputs": [],
   "source": [
    "importlib.reload(data_utils)\n",
    "\n",
    "start_time = time.time()\n",
    "\n",
    "data_utils.process_gta5(img_shape = (1024,512), \\\n",
    "                 img_dir = \"./data/GTA5/images/\", \\\n",
    "                 label_dir = \"./data/GTA5/labels/\", \\\n",
    "                 target_dir = \"./processed-data/1024x512/19_classes/GTA5/train/\", \\\n",
    "                 target_label_ids = data_utils.label_ids_19)\n",
    "\n",
    "print(\"Processing GTA5 images took\", time.time() - start_time)"
   ]
  },
  {
   "cell_type": "code",
   "execution_count": null,
   "metadata": {},
   "outputs": [],
   "source": [
    "importlib.reload(data_utils)\n",
    "\n",
    "start_time = time.time()\n",
    "\n",
    "data_utils.process_cityscapes(img_shape = (1024,512), \\\n",
    "                 img_dir = \"/global/cfs/cdirs/m3691/segmentation_datasets/CITYSCAPES/leftImg8bit/train/\", \\\n",
    "                 label_dir = \"/global/cfs/cdirs/m3691/segmentation_datasets/CITYSCAPES/gtFine/train/\", \\\n",
    "                 target_dir = \"./processed-data/1024x512/19_classes/CITYSCAPES/train/\", \\\n",
    "                 target_label_ids = data_utils.label_ids_19)\n",
    "\n",
    "print(\"Processing CITYSCAPES images took\", time.time() - start_time)"
   ]
  },
  {
   "cell_type": "code",
   "execution_count": null,
   "metadata": {},
   "outputs": [],
   "source": [
    "importlib.reload(data_utils)\n",
    "\n",
    "start_time = time.time()\n",
    "\n",
    "data_utils.process_cityscapes(img_shape = (1024,512), \\\n",
    "                 img_dir = \"/global/cfs/cdirs/m3691/segmentation_datasets/CITYSCAPES/leftImg8bit/val/\", \\\n",
    "                 label_dir = \"/global/cfs/cdirs/m3691/segmentation_datasets/CITYSCAPES/gtFine/val/\", \\\n",
    "                 target_dir = \"./processed-data/1024x512/19_classes/CITYSCAPES/val/\", \\\n",
    "                 target_label_ids = data_utils.label_ids_19)\n",
    "\n",
    "print(\"Processing CITYSCAPES validation images took\", time.time() - start_time)"
   ]
  },
  {
   "cell_type": "code",
   "execution_count": null,
   "metadata": {},
   "outputs": [],
   "source": [
    "importlib.reload(data_utils)\n",
    "\n",
    "start_time = time.time()\n",
    "\n",
    "data_utils.process_cityscapes(img_shape = (1024,512), \\\n",
    "                 img_dir = \"/global/cfs/cdirs/m3691/segmentation_datasets/CITYSCAPES/leftImg8bit/test/\", \\\n",
    "                 label_dir = \"/global/cfs/cdirs/m3691/segmentation_datasets/CITYSCAPES/gtFine/test/\", \\\n",
    "                 target_dir = \"./processed-data/1024x512/19_classes/CITYSCAPES/test/\", \\\n",
    "                 target_label_ids = data_utils.label_ids_19)\n",
    "\n",
    "print(\"Processing CITYSCAPES test images took\", time.time() - start_time)"
   ]
  }
 ],
 "metadata": {
  "kernelspec": {
   "display_name": "accda",
   "language": "python",
   "name": "accda"
  },
  "language_info": {
   "codemirror_mode": {
    "name": "ipython",
    "version": 3
   },
   "file_extension": ".py",
   "mimetype": "text/x-python",
   "name": "python",
   "nbconvert_exporter": "python",
   "pygments_lexer": "ipython3",
   "version": "3.6.13"
  }
 },
 "nbformat": 4,
 "nbformat_minor": 4
}
