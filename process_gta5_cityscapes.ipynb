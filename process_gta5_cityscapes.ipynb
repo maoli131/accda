{
 "cells": [
  {
   "cell_type": "code",
   "execution_count": 1,
   "metadata": {},
   "outputs": [],
   "source": [
    "import numpy as np"
   ]
  },
  {
   "cell_type": "code",
   "execution_count": 2,
   "metadata": {},
   "outputs": [],
   "source": [
    "import tensorflow as tf\n",
    "\n",
    "from tensorflow.keras.applications.imagenet_utils import preprocess_input"
   ]
  },
  {
   "cell_type": "code",
   "execution_count": 3,
   "metadata": {},
   "outputs": [],
   "source": [
    "import data_utils as data_utils\n",
    "\n",
    "import importlib\n",
    "\n",
    "import time"
   ]
  },
  {
   "cell_type": "code",
   "execution_count": 4,
   "metadata": {},
   "outputs": [],
   "source": [
    "# (width, height) format\n",
    "img_shape = (1024, 512)"
   ]
  },
  {
   "cell_type": "code",
   "execution_count": 6,
   "metadata": {},
   "outputs": [
    {
     "name": "stdout",
     "output_type": "stream",
     "text": [
      "Processing GTA5 images took 2860.9633088111877\n"
     ]
    }
   ],
   "source": [
    "importlib.reload(data_utils)\n",
    "\n",
    "start_time = time.time()\n",
    "\n",
    "data_utils.process_gta5(img_shape = (1024,512), \\\n",
    "                 img_dir = \"./data/GTA5/images/\", \\\n",
    "                 label_dir = \"./data/GTA5/labels/\", \\\n",
    "                 target_dir = \"./processed-data/1024x512/19_classes/GTA5/train/\", \\\n",
    "                 target_label_ids = data_utils.label_ids_19)\n",
    "\n",
    "print(\"Processing GTA5 images took\", time.time() - start_time)"
   ]
  },
  {
   "cell_type": "code",
   "execution_count": 7,
   "metadata": {},
   "outputs": [
    {
     "name": "stdout",
     "output_type": "stream",
     "text": [
      "Processing CITYSCAPES images took 336.2361853122711\n"
     ]
    }
   ],
   "source": [
    "importlib.reload(data_utils)\n",
    "\n",
    "start_time = time.time()\n",
    "\n",
    "data_utils.process_cityscapes(img_shape = (1024,512), \\\n",
    "                 img_dir = \"./data/CITYSCAPES/images/train/\", \\\n",
    "                 label_dir = \"./data/CITYSCAPES/labels/train/\", \\\n",
    "                 target_dir = \"./processed-data/1024x512/19_classes/CITYSCAPES/train/\", \\\n",
    "                 target_label_ids = data_utils.label_ids_19)\n",
    "\n",
    "print(\"Processing CITYSCAPES images took\", time.time() - start_time)"
   ]
  },
  {
   "cell_type": "code",
   "execution_count": 8,
   "metadata": {},
   "outputs": [
    {
     "name": "stdout",
     "output_type": "stream",
     "text": [
      "Processing CITYSCAPES validation images took 57.020829916000366\n"
     ]
    }
   ],
   "source": [
    "importlib.reload(data_utils)\n",
    "\n",
    "start_time = time.time()\n",
    "\n",
    "data_utils.process_cityscapes(img_shape = (1024,512), \\\n",
    "                 img_dir = \"./data/CITYSCAPES/images/val/\", \\\n",
    "                 label_dir = \"./data/CITYSCAPES/labels/val/\", \\\n",
    "                 target_dir = \"./processed-data/1024x512/19_classes/CITYSCAPES/val/\", \\\n",
    "                 target_label_ids = data_utils.label_ids_19)\n",
    "\n",
    "print(\"Processing CITYSCAPES validation images took\", time.time() - start_time)"
   ]
  },
  {
   "cell_type": "code",
   "execution_count": 9,
   "metadata": {},
   "outputs": [
    {
     "name": "stdout",
     "output_type": "stream",
     "text": [
      "Processing CITYSCAPES test images took 166.99938201904297\n"
     ]
    }
   ],
   "source": [
    "importlib.reload(data_utils)\n",
    "\n",
    "start_time = time.time()\n",
    "\n",
    "data_utils.process_cityscapes(img_shape = (1024,512), \\\n",
    "                 img_dir = \"./data/CITYSCAPES/images/test/\", \\\n",
    "                 label_dir = \"./data/CITYSCAPES/labels/test/\", \\\n",
    "                 target_dir = \"./processed-data/1024x512/19_classes/CITYSCAPES/test/\", \\\n",
    "                 target_label_ids = data_utils.label_ids_19)\n",
    "\n",
    "print(\"Processing CITYSCAPES test images took\", time.time() - start_time)"
   ]
  },
  {
   "cell_type": "code",
   "execution_count": null,
   "metadata": {},
   "outputs": [],
   "source": []
  },
  {
   "cell_type": "code",
   "execution_count": null,
   "metadata": {},
   "outputs": [],
   "source": []
  }
 ],
 "metadata": {
  "kernelspec": {
   "display_name": "Python 3",
   "language": "python",
   "name": "python3"
  },
  "language_info": {
   "codemirror_mode": {
    "name": "ipython",
    "version": 3
   },
   "file_extension": ".py",
   "mimetype": "text/x-python",
   "name": "python",
   "nbconvert_exporter": "python",
   "pygments_lexer": "ipython3",
   "version": "3.8.3"
  }
 },
 "nbformat": 4,
 "nbformat_minor": 4
}
