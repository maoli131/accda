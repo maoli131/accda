{
 "cells": [
  {
   "cell_type": "markdown",
   "metadata": {},
   "source": [
    "# Active Continuous DA from GTA5 to Cityscapes\n",
    "\n",
    "This notebook performs active sample selection using MADA and generalizes the vgg16-deeplabv3 from source to target."
   ]
  },
  {
   "cell_type": "code",
   "execution_count": 1,
   "metadata": {},
   "outputs": [],
   "source": [
    "# End-End training and testing of the new pytorch-based VGG16-deeplabv3 architecture\n",
    "# https://stackoverflow.com/questions/37893755/tensorflow-set-cuda-visible-devices-within-jupyter\n",
    "import os\n",
    "os.environ[\"CUDA_DEVICE_ORDER\"]=\"PCI_BUS_ID\"   # see issue #152\n",
    "os.environ[\"CUDA_VISIBLE_DEVICES\"]=\"0\"\n",
    "\n",
    "# https://stackoverflow.com/questions/56008683/could-not-create-cudnn-handle-cudnn-status-internal-error\n",
    "import tensorflow as tf\n",
    "gpu_options = tf.compat.v1.GPUOptions(per_process_gpu_memory_fraction=0.95)\n",
    "config = tf.compat.v1.ConfigProto(gpu_options=gpu_options)\n",
    "config.gpu_options.allow_growth = True\n",
    "session = tf.compat.v1.Session(config=config)"
   ]
  },
  {
   "cell_type": "code",
   "execution_count": 2,
   "metadata": {},
   "outputs": [],
   "source": [
    "import importlib\n",
    "\n",
    "import wasserstein_utils\n",
    "import data_utils\n",
    "import losses\n",
    "import networks\n",
    "import deeplabv3 as dlv3\n",
    "import utils"
   ]
  },
  {
   "cell_type": "code",
   "execution_count": 3,
   "metadata": {},
   "outputs": [],
   "source": [
    "import time\n",
    "import numpy as np\n",
    "\n",
    "import data_utils\n",
    "import losses\n",
    "\n",
    "from IPython import display"
   ]
  },
  {
   "cell_type": "code",
   "execution_count": 4,
   "metadata": {},
   "outputs": [],
   "source": [
    "import umap"
   ]
  },
  {
   "cell_type": "code",
   "execution_count": 5,
   "metadata": {},
   "outputs": [],
   "source": [
    "backbone = 'vgg16'\n",
    "dataset = \"GTA5\"\n",
    "\n",
    "# H x W x C\n",
    "img_shape = (512,1024,3)\n",
    "\n",
    "# 19 classes + void\n",
    "num_classes = 20\n",
    "\n",
    "batch_size=4\n",
    "\n",
    "# Testing replay buffer => training off\n",
    "do_training = False\n",
    "\n",
    "epochs=250\n",
    "epoch_step=250\n",
    "\n",
    "num_projections=100\n",
    "\n",
    "source_data_dir = './processed-data/1024x512/19_classes/' + dataset + '/train/'\n",
    "cityscapes_data_dir = './processed-data/1024x512/19_classes/CITYSCAPES/train/'\n",
    "cityscapes_val_dir = './processed-data/1024x512/19_classes/CITYSCAPES/val/'\n",
    "\n",
    "fn_w_dlv3 = \"weights/\" + dataset + \"/\" + backbone + \"_deeplabv3.h5\"\n",
    "fn_w_cls = \"weights/\" + dataset + \"/\" + backbone + \"_deeplabv3_classifier.h5\"\n",
    "\n",
    "fn_w_adapted_dlv3 = \"weights/\" + dataset + \"/\" + backbone +\"_deeplabv3_adapted.h5\"\n",
    "fn_w_adapted_cls = \"weights/\" + dataset + \"/\" + backbone + \"_deeplabv3_classifier_adapted.h5\""
   ]
  },
  {
   "cell_type": "markdown",
   "metadata": {},
   "source": [
    "## Step 1: Model Construction\n",
    "\n",
    "This builds a customized deeplabv3 model with classifier layer"
   ]
  },
  {
   "cell_type": "code",
   "execution_count": 6,
   "metadata": {},
   "outputs": [],
   "source": [
    "importlib.reload(losses)\n",
    "\n",
    "deeplabv3 = dlv3.deeplabv3(activation=None, \\\n",
    "                           backbone=backbone, \\\n",
    "                           num_classes=num_classes)\n",
    "\n",
    "X = deeplabv3.input\n",
    "Y = tf.keras.layers.Input(shape=(img_shape[0], img_shape[1], num_classes,), dtype='float32', name='label_input')\n",
    "\n",
    "C_in = tf.keras.layers.Input(shape=deeplabv3.layers[-1].output_shape[1:], dtype='float32', name='classifier_input')\n",
    "classifier = tf.keras.Model(C_in, networks.classifier_layers(C_in, num_classes = num_classes, activation='softmax'))\n",
    "\n",
    "# A combined model, giving the output of classifier(deeplabv3(X))\n",
    "combined = tf.keras.Model(X, classifier(deeplabv3(X)))\n",
    "combined.compile(loss=tf.keras.losses.CategoricalCrossentropy(from_logits=False))\n",
    "\n",
    "# A model outputting hxwx1 labels for each image. Also useful to verify the\n",
    "# mIoU with Keras' built-in function. Will however also consider the 'ignore' class. \n",
    "combined_ = tf.keras.Model(X, tf.cast(tf.keras.backend.argmax(combined(X), axis=-1), 'float32'))\n",
    "combined_.compile(metrics=[tf.keras.metrics.MeanIoU(num_classes=num_classes)])\n",
    "\n",
    "# Set up training\n",
    "opt = tf.keras.optimizers.Adam(lr=1e-4, epsilon=1e-8, decay=1e-6)\n",
    "# opt = tf.keras.optimizers.SGD(lr=1e-4, momentum=.9)\n",
    "\n",
    "loss_function = losses.weighted_ce_loss(num_classes, 0)\n",
    "wce_loss = loss_function(Y, classifier(deeplabv3(X)), from_logits=False)\n",
    "\n",
    "# https://stackoverflow.com/questions/55434653/batch-normalization-doesnt-have-gradient-in-tensorflow-2-0\n",
    "params = deeplabv3.trainable_weights + classifier.trainable_weights\n",
    "\n",
    "updates = opt.get_updates(wce_loss, params)\n",
    "\n",
    "train = tf.keras.backend.function(inputs=[X,Y], outputs=[wce_loss], updates=updates)"
   ]
  },
  {
   "cell_type": "code",
   "execution_count": 7,
   "metadata": {},
   "outputs": [],
   "source": [
    "deeplabv3.load_weights(fn_w_dlv3)\n",
    "classifier.load_weights(fn_w_cls)"
   ]
  },
  {
   "cell_type": "markdown",
   "metadata": {},
   "source": [
    "### Model Summary\n",
    "This final `combined_` model is consists of (deeplabv3 + classifer). More specifically, `combined` outputs categorical cross entroy and `combined_` outputs Height * Weight * 1 labels."
   ]
  },
  {
   "cell_type": "code",
   "execution_count": 8,
   "metadata": {},
   "outputs": [
    {
     "name": "stdout",
     "output_type": "stream",
     "text": [
      "Model: \"model_3\"\n",
      "_________________________________________________________________\n",
      "Layer (type)                 Output Shape              Param #   \n",
      "=================================================================\n",
      "input_1 (InputLayer)         [(None, 512, 1024, 3)]    0         \n",
      "_________________________________________________________________\n",
      "model_2 (Model)              (None, 512, 1024, 20)     19446008  \n",
      "_________________________________________________________________\n",
      "tf_op_layer_ArgMax (TensorFl [(None, 512, 1024)]       0         \n",
      "_________________________________________________________________\n",
      "tf_op_layer_Cast (TensorFlow [(None, 512, 1024)]       0         \n",
      "=================================================================\n",
      "Total params: 19,446,008\n",
      "Trainable params: 19,442,424\n",
      "Non-trainable params: 3,584\n",
      "_________________________________________________________________\n"
     ]
    }
   ],
   "source": [
    "combined_.summary()"
   ]
  },
  {
   "cell_type": "markdown",
   "metadata": {},
   "source": [
    "## Step 2: Training on Source Domain\n",
    "\n",
    "This step can be skipped by loading pretrained model weights."
   ]
  },
  {
   "cell_type": "code",
   "execution_count": 9,
   "metadata": {},
   "outputs": [
    {
     "name": "stdout",
     "output_type": "stream",
     "text": [
      "Loaded model weights from weights folder\n"
     ]
    }
   ],
   "source": [
    "importlib.reload(data_utils)\n",
    "import matplotlib.pyplot as plt\n",
    "\n",
    "# Training on source domain\n",
    "if do_training == True:\n",
    "    \n",
    "    try:\n",
    "        deeplabv3.load_weights(fn_w_dlv3)\n",
    "        classifier.load_weights(fn_w_cls)\n",
    "        print(\"Successfully loaded model. Continuing training.\")\n",
    "    except:\n",
    "        print(\"Could not load previous model weights. Is a new model present?\")\n",
    "        \n",
    "    start_time = time.time()\n",
    "\n",
    "    fig,ax = plt.subplots(1,figsize=(10,7))\n",
    "\n",
    "    loss_history = []\n",
    "    \n",
    "    for itr in range(epochs):\n",
    "        \n",
    "        source_train_data, source_train_labels = utils.sample_batch(source_data_dir, batch_size=batch_size, seed=itr)\n",
    "        source_train_labels = tf.keras.utils.to_categorical(source_train_labels, num_classes=num_classes)\n",
    "\n",
    "        loss_history.append(train(inputs=[source_train_data, source_train_labels]))\n",
    "        \n",
    "        if np.isnan(np.sum(loss_history[-1])):\n",
    "            print('ERROR. ENCOUNTERED NAN')\n",
    "            break\n",
    "\n",
    "        if itr%epoch_step == 0:\n",
    "            if itr != 0:\n",
    "                ax.clear()\n",
    "                ax.plot(np.asarray(loss_history))\n",
    "\n",
    "            ax.set_title(\"Training loss on source domain\")\n",
    "            ax.set_xlabel(\"Epoch\")\n",
    "            ax.set_ylabel(\"Loss\")\n",
    "\n",
    "            display.clear_output(wait=True)\n",
    "            display.display(plt.gcf())\n",
    "            time.sleep(1e-3)\n",
    "            \n",
    "        if itr % (epochs // 10) == 0 or itr == epochs - 1:\n",
    "            deeplabv3.save_weights(fn_w_dlv3)\n",
    "            classifier.save_weights(fn_w_cls)\n",
    "\n",
    "    training_time = time.time() - start_time\n",
    "    \n",
    "else:   \n",
    "    deeplabv3.load_weights(fn_w_dlv3)\n",
    "    classifier.load_weights(fn_w_cls)\n",
    "    print(\"Loaded model weights from weights folder\")"
   ]
  },
  {
   "cell_type": "code",
   "execution_count": null,
   "metadata": {},
   "outputs": [],
   "source": [
    "import utils\n",
    "importlib.reload(utils)\n",
    "\n",
    "start_time = time.time()\n",
    "\n",
    "source_cat_iou,source_miou = utils.compute_miou(source_data_dir, combined_, data_utils.label_ids_19, 0)\n",
    "\n",
    "for k in source_cat_iou:\n",
    "    print(k, source_cat_iou[k])\n",
    "print(source_miou)\n",
    "\n",
    "print('Computed ' + dataset + ' mIoU in', time.time() - start_time)\n",
    "\n",
    "# road 0.8559070065772992\n",
    "# sidewalk 0.9043721610536399\n",
    "# building 0.8381948427759653\n",
    "# wall 0.632677142340526\n",
    "# fence 0.699526703820766\n",
    "# pole 0.6073661307913504\n",
    "# traffic light 0.7258756809296298\n",
    "# traffic sign 0.6789546854786402\n",
    "# vegetation 0.8526590005209183\n",
    "# terrain 0.7779495588027171\n",
    "# sky 0.9530645387149239\n",
    "# person 0.7316948194592244\n",
    "# rider 0.809945935261575\n",
    "# car 0.5922120101790109\n",
    "# truck 0.9211600020912953\n",
    "# bus 0.9270433021188236\n",
    "# train 0.8659149467023691\n",
    "# motorcycle 0.6754852581619956\n",
    "# bicycle 0.5876167577346231\n",
    "# 0.7704010780797522\n",
    "# Computed GTA5 mIoU in 1953.6462309360504"
   ]
  },
  {
   "cell_type": "code",
   "execution_count": null,
   "metadata": {},
   "outputs": [],
   "source": [
    "start_time = time.time()\n",
    "\n",
    "cit_cat_iou,cit_miou = utils.compute_miou(cityscapes_data_dir, combined_, data_utils.label_ids_19, 0)\n",
    "\n",
    "for k in cit_cat_iou:\n",
    "    print(k, cit_cat_iou[k])\n",
    "print(cit_miou)\n",
    "\n",
    "print('Computed CITYSCAPES mIoU in', time.time() - start_time)\n",
    "\n",
    "# road 0.4538541445555259\n",
    "# sidewalk 0.17761519682584992\n",
    "# building 0.5960010633542256\n",
    "# wall 0.11064090337021892\n",
    "# fence 0.08225737548235189\n",
    "# pole 0.11701661235497808\n",
    "# traffic light 0.2131517695419058\n",
    "# traffic sign 0.085832471689785\n",
    "# vegetation 0.7016830692115976\n",
    "# terrain 0.05272756739697445\n",
    "# sky 0.4267235195286716\n",
    "# person 0.30570697364634025\n",
    "# rider 0.03181916445284627\n",
    "# car 0.4930313336164962\n",
    "# truck 0.05910168795933546\n",
    "# bus 0.052471835602942996\n",
    "# train 0.003952731749887269\n",
    "# motorcycle 0.07819570698033228\n",
    "# bicycle 0.0073530220468457285\n",
    "# 0.2131124289140585\n",
    "# Computed CITYSCAPES mIoU in 249.57955932617188"
   ]
  },
  {
   "cell_type": "markdown",
   "metadata": {
    "tags": []
   },
   "source": [
    "### Active Learning: Feature Map Generation and Centroids Clustering\n",
    "\n",
    "This step generates a feature map from the source dataset. It then clusters the features into centroids. "
   ]
  },
  {
   "cell_type": "code",
   "execution_count": 21,
   "metadata": {},
   "outputs": [
    {
     "name": "stdout",
     "output_type": "stream",
     "text": [
      "Model: \"model\"\n",
      "__________________________________________________________________________________________________\n",
      "Layer (type)                    Output Shape         Param #     Connected to                     \n",
      "==================================================================================================\n",
      "input_1 (InputLayer)            [(None, 512, 1024, 3 0                                            \n",
      "__________________________________________________________________________________________________\n",
      "block1_conv1 (Conv2D)           (None, 512, 1024, 64 1792        input_1[0][0]                    \n",
      "__________________________________________________________________________________________________\n",
      "block1_conv2 (Conv2D)           (None, 512, 1024, 64 36928       block1_conv1[1][0]               \n",
      "__________________________________________________________________________________________________\n",
      "block1_pool (MaxPooling2D)      (None, 256, 512, 64) 0           block1_conv2[1][0]               \n",
      "__________________________________________________________________________________________________\n",
      "block2_conv1 (Conv2D)           (None, 256, 512, 128 73856       block1_pool[1][0]                \n",
      "__________________________________________________________________________________________________\n",
      "block2_conv2 (Conv2D)           (None, 256, 512, 128 147584      block2_conv1[1][0]               \n",
      "__________________________________________________________________________________________________\n",
      "block2_pool (MaxPooling2D)      (None, 128, 256, 128 0           block2_conv2[1][0]               \n",
      "__________________________________________________________________________________________________\n",
      "block3_conv1 (Conv2D)           (None, 128, 256, 256 295168      block2_pool[1][0]                \n",
      "__________________________________________________________________________________________________\n",
      "block3_conv2 (Conv2D)           (None, 128, 256, 256 590080      block3_conv1[1][0]               \n",
      "__________________________________________________________________________________________________\n",
      "block3_conv3 (Conv2D)           (None, 128, 256, 256 590080      block3_conv2[1][0]               \n",
      "__________________________________________________________________________________________________\n",
      "block3_pool (MaxPooling2D)      (None, 64, 128, 256) 0           block3_conv3[1][0]               \n",
      "__________________________________________________________________________________________________\n",
      "block4_conv1 (Conv2D)           (None, 64, 128, 512) 1180160     block3_pool[1][0]                \n",
      "__________________________________________________________________________________________________\n",
      "block4_conv2 (Conv2D)           (None, 64, 128, 512) 2359808     block4_conv1[1][0]               \n",
      "__________________________________________________________________________________________________\n",
      "block4_conv3 (Conv2D)           (None, 64, 128, 512) 2359808     block4_conv2[1][0]               \n",
      "__________________________________________________________________________________________________\n",
      "block5_conv1 (Conv2D)           multiple             2359808     block4_conv3[1][0]               \n",
      "__________________________________________________________________________________________________\n",
      "block5_conv2 (Conv2D)           multiple             2359808     block5_conv1[1][0]               \n",
      "__________________________________________________________________________________________________\n",
      "block5_conv3 (Conv2D)           multiple             2359808     block5_conv2[1][0]               \n",
      "__________________________________________________________________________________________________\n",
      "global_average_pooling2d (Globa (None, 512)          0           block5_conv3[1][0]               \n",
      "__________________________________________________________________________________________________\n",
      "lambda (Lambda)                 (None, 1, 512)       0           global_average_pooling2d[0][0]   \n",
      "__________________________________________________________________________________________________\n",
      "lambda_1 (Lambda)               (None, 1, 1, 512)    0           lambda[0][0]                     \n",
      "__________________________________________________________________________________________________\n",
      "zero_padding2d (ZeroPadding2D)  (None, 88, 152, 512) 0           block5_conv3[1][0]               \n",
      "__________________________________________________________________________________________________\n",
      "zero_padding2d_1 (ZeroPadding2D (None, 112, 176, 512 0           block5_conv3[1][0]               \n",
      "__________________________________________________________________________________________________\n",
      "zero_padding2d_2 (ZeroPadding2D (None, 136, 200, 512 0           block5_conv3[1][0]               \n",
      "__________________________________________________________________________________________________\n",
      "conv2d_4 (Conv2D)               (None, 1, 1, 256)    131072      lambda_1[0][0]                   \n",
      "__________________________________________________________________________________________________\n",
      "conv2d (Conv2D)                 (None, 64, 128, 256) 131072      block5_conv3[1][0]               \n",
      "__________________________________________________________________________________________________\n",
      "conv2d_1 (Conv2D)               (None, 64, 128, 256) 1179648     zero_padding2d[0][0]             \n",
      "__________________________________________________________________________________________________\n",
      "conv2d_2 (Conv2D)               (None, 64, 128, 256) 1179648     zero_padding2d_1[0][0]           \n",
      "__________________________________________________________________________________________________\n",
      "conv2d_3 (Conv2D)               (None, 64, 128, 256) 1179648     zero_padding2d_2[0][0]           \n",
      "__________________________________________________________________________________________________\n",
      "batch_normalization_4 (BatchNor (None, 1, 1, 256)    1024        conv2d_4[0][0]                   \n",
      "__________________________________________________________________________________________________\n",
      "batch_normalization (BatchNorma (None, 64, 128, 256) 1024        conv2d[0][0]                     \n",
      "__________________________________________________________________________________________________\n",
      "batch_normalization_1 (BatchNor (None, 64, 128, 256) 1024        conv2d_1[0][0]                   \n",
      "__________________________________________________________________________________________________\n",
      "batch_normalization_2 (BatchNor (None, 64, 128, 256) 1024        conv2d_2[0][0]                   \n",
      "__________________________________________________________________________________________________\n",
      "batch_normalization_3 (BatchNor (None, 64, 128, 256) 1024        conv2d_3[0][0]                   \n",
      "__________________________________________________________________________________________________\n",
      "activation_4 (Activation)       (None, 1, 1, 256)    0           batch_normalization_4[0][0]      \n",
      "__________________________________________________________________________________________________\n",
      "activation (Activation)         (None, 64, 128, 256) 0           batch_normalization[0][0]        \n",
      "__________________________________________________________________________________________________\n",
      "activation_1 (Activation)       (None, 64, 128, 256) 0           batch_normalization_1[0][0]      \n",
      "__________________________________________________________________________________________________\n",
      "activation_2 (Activation)       (None, 64, 128, 256) 0           batch_normalization_2[0][0]      \n",
      "__________________________________________________________________________________________________\n",
      "activation_3 (Activation)       (None, 64, 128, 256) 0           batch_normalization_3[0][0]      \n",
      "__________________________________________________________________________________________________\n",
      "pooling_resizing_layer (Lambda) (None, 64, 128, 256) 0           activation_4[0][0]               \n",
      "__________________________________________________________________________________________________\n",
      "concatenate (Concatenate)       (None, 64, 128, 1280 0           activation[0][0]                 \n",
      "                                                                 activation_1[0][0]               \n",
      "                                                                 activation_2[0][0]               \n",
      "                                                                 activation_3[0][0]               \n",
      "                                                                 pooling_resizing_layer[0][0]     \n",
      "__________________________________________________________________________________________________\n",
      "conv2d_5 (Conv2D)               (None, 64, 128, 256) 327680      concatenate[0][0]                \n",
      "__________________________________________________________________________________________________\n",
      "batch_normalization_5 (BatchNor (None, 64, 128, 256) 1024        conv2d_5[0][0]                   \n",
      "__________________________________________________________________________________________________\n",
      "activation_5 (Activation)       (None, 64, 128, 256) 0           batch_normalization_5[0][0]      \n",
      "__________________________________________________________________________________________________\n",
      "dropout (Dropout)               (None, 64, 128, 256) 0           activation_5[0][0]               \n",
      "__________________________________________________________________________________________________\n",
      "zero_padding2d_3 (ZeroPadding2D (None, 66, 130, 256) 0           dropout[0][0]                    \n",
      "__________________________________________________________________________________________________\n",
      "conv2d_6 (Conv2D)               (None, 64, 128, 256) 589824      zero_padding2d_3[0][0]           \n",
      "__________________________________________________________________________________________________\n",
      "batch_normalization_6 (BatchNor (None, 64, 128, 256) 1024        conv2d_6[0][0]                   \n",
      "__________________________________________________________________________________________________\n",
      "activation_6 (Activation)       (None, 64, 128, 256) 0           batch_normalization_6[0][0]      \n",
      "__________________________________________________________________________________________________\n",
      "conv2d_7 (Conv2D)               (None, 64, 128, 20)  5140        activation_6[0][0]               \n",
      "__________________________________________________________________________________________________\n",
      "final_resizing_layer (Lambda)   (None, 512, 1024, 20 0           conv2d_7[0][0]                   \n",
      "==================================================================================================\n",
      "Total params: 19,445,588\n",
      "Trainable params: 19,442,004\n",
      "Non-trainable params: 3,584\n",
      "__________________________________________________________________________________________________\n"
     ]
    }
   ],
   "source": [
    "deeplabv3.summary() # This is the freezed feature encode f_E"
   ]
  },
  {
   "cell_type": "markdown",
   "metadata": {},
   "source": [
    "### Feature Map Generation\n",
    "Feature encoder f_E (deeplabv3), calculate the feature map Fc(x) of a source sample x for a certain categorty c. y_c denotes the label map for category c. Square multiply denotes element wise multiplication for extraction of categorty-exclusive information. |A_c| is the number of pixels belonging to the specific category. \n",
    "\n",
    "![feature map formula](images/feature-formula.png)\n",
    "\n",
    "The final feature vector F(x) of the source x is obtained by first flattening the F_c(x) of each categroty into a vector, and then connect vectors of all categories into a long vector. "
   ]
  },
  {
   "cell_type": "code",
   "execution_count": 26,
   "metadata": {},
   "outputs": [],
   "source": [
    "# Iterate through the source domains, for sample x\n",
    "for itr in range(1):\n",
    "    # train_data = (batch_size, 512, 1024, 3 channels); train_label = (batch_size, 512, 1024, 20 classes)\n",
    "    source_train_data, source_train_labels = utils.sample_batch(source_data_dir, batch_size=1, seed=itr)\n",
    "    source_train_labels = tf.keras.utils.to_categorical(source_train_labels, num_classes=num_classes)"
   ]
  },
  {
   "cell_type": "code",
   "execution_count": 90,
   "metadata": {},
   "outputs": [],
   "source": [
    "# f_E(x), the networks' output for source sample x\n",
    "output = deeplabv3(source_train_data)"
   ]
  },
  {
   "cell_type": "code",
   "execution_count": 91,
   "metadata": {},
   "outputs": [],
   "source": [
    "# category c\n",
    "c = 1"
   ]
  },
  {
   "cell_type": "code",
   "execution_count": 92,
   "metadata": {},
   "outputs": [
    {
     "data": {
      "text/plain": [
       "<tf.Tensor: shape=(1, 512, 1024), dtype=float32, numpy=\n",
       "array([[[1.8430418, 1.8929796, 1.9429173, ..., 4.4713798, 4.4713798,\n",
       "         4.4713798],\n",
       "        [1.863036 , 1.91791  , 1.9727838, ..., 4.61341  , 4.61341  ,\n",
       "         4.61341  ],\n",
       "        [1.8830302, 1.9428403, 2.0026503, ..., 4.7554398, 4.7554398,\n",
       "         4.7554398],\n",
       "        ...,\n",
       "        [5.167786 , 5.4404817, 5.713177 , ..., 4.4859176, 4.4859176,\n",
       "         4.4859176],\n",
       "        [5.167786 , 5.4404817, 5.713177 , ..., 4.4859176, 4.4859176,\n",
       "         4.4859176],\n",
       "        [5.167786 , 5.4404817, 5.713177 , ..., 4.4859176, 4.4859176,\n",
       "         4.4859176]]], dtype=float32)>"
      ]
     },
     "execution_count": 92,
     "metadata": {},
     "output_type": "execute_result"
    }
   ],
   "source": [
    "# f_E(x)|c, the networks' output for category c, shape(1, 512, 1024)\n",
    "output[:,:,:,c] "
   ]
  },
  {
   "cell_type": "code",
   "execution_count": 93,
   "metadata": {},
   "outputs": [
    {
     "data": {
      "text/plain": [
       "array([[[0., 0., 0., ..., 0., 0., 0.],\n",
       "        [0., 0., 0., ..., 0., 0., 0.],\n",
       "        [0., 0., 0., ..., 0., 0., 0.],\n",
       "        ...,\n",
       "        [1., 1., 1., ..., 0., 0., 0.],\n",
       "        [1., 1., 1., ..., 0., 0., 0.],\n",
       "        [1., 1., 1., ..., 0., 0., 0.]]], dtype=float32)"
      ]
     },
     "execution_count": 93,
     "metadata": {},
     "output_type": "execute_result"
    }
   ],
   "source": [
    "# y_c, the label map for category c, numpy array with shape (1, 512, 1024)\n",
    "source_train_labels[:,:,:,c]"
   ]
  },
  {
   "cell_type": "code",
   "execution_count": 94,
   "metadata": {},
   "outputs": [
    {
     "data": {
      "text/plain": [
       "<tf.Tensor: shape=(1, 512, 1024), dtype=float32, numpy=\n",
       "array([[[0.       , 0.       , 0.       , ..., 0.       , 0.       ,\n",
       "         0.       ],\n",
       "        [0.       , 0.       , 0.       , ..., 0.       , 0.       ,\n",
       "         0.       ],\n",
       "        [0.       , 0.       , 0.       , ..., 0.       , 0.       ,\n",
       "         0.       ],\n",
       "        ...,\n",
       "        [5.167786 , 5.4404817, 5.713177 , ..., 0.       , 0.       ,\n",
       "         0.       ],\n",
       "        [5.167786 , 5.4404817, 5.713177 , ..., 0.       , 0.       ,\n",
       "         0.       ],\n",
       "        [5.167786 , 5.4404817, 5.713177 , ..., 0.       , 0.       ,\n",
       "         0.       ]]], dtype=float32)>"
      ]
     },
     "execution_count": 94,
     "metadata": {},
     "output_type": "execute_result"
    }
   ],
   "source": [
    "# Extract category-exclusive information; element wise multiplication to get y_c * f_E(x)\n",
    "tf.math.multiply(output[:,:,:,c], source_train_labels[:,:,:,c])"
   ]
  },
  {
   "cell_type": "code",
   "execution_count": 95,
   "metadata": {},
   "outputs": [
    {
     "data": {
      "text/plain": [
       "219317.0"
      ]
     },
     "execution_count": 95,
     "metadata": {},
     "output_type": "execute_result"
    }
   ],
   "source": [
    "# |A_c|, the number of pixels beloing to the specific category\n",
    "np.sum(source_train_labels[:,:,:,c])"
   ]
  },
  {
   "cell_type": "code",
   "execution_count": 96,
   "metadata": {},
   "outputs": [
    {
     "data": {
      "text/plain": [
       "<tf.Tensor: shape=(1, 512, 1024), dtype=float32, numpy=\n",
       "array([[[0.0000000e+00, 0.0000000e+00, 0.0000000e+00, ...,\n",
       "         0.0000000e+00, 0.0000000e+00, 0.0000000e+00],\n",
       "        [0.0000000e+00, 0.0000000e+00, 0.0000000e+00, ...,\n",
       "         0.0000000e+00, 0.0000000e+00, 0.0000000e+00],\n",
       "        [0.0000000e+00, 0.0000000e+00, 0.0000000e+00, ...,\n",
       "         0.0000000e+00, 0.0000000e+00, 0.0000000e+00],\n",
       "        ...,\n",
       "        [2.3563089e-05, 2.4806475e-05, 2.6049860e-05, ...,\n",
       "         0.0000000e+00, 0.0000000e+00, 0.0000000e+00],\n",
       "        [2.3563089e-05, 2.4806475e-05, 2.6049860e-05, ...,\n",
       "         0.0000000e+00, 0.0000000e+00, 0.0000000e+00],\n",
       "        [2.3563089e-05, 2.4806475e-05, 2.6049860e-05, ...,\n",
       "         0.0000000e+00, 0.0000000e+00, 0.0000000e+00]]], dtype=float32)>"
      ]
     },
     "execution_count": 96,
     "metadata": {},
     "output_type": "execute_result"
    }
   ],
   "source": [
    "# F_c_x: feature map of a source sample x for a certain category c\n",
    "F_c_x = tf.math.multiply(output[:,:,:,c], source_train_labels[:,:,:,c]) / np.sum(source_train_labels[:,:,:,c])\n",
    "F_c_x"
   ]
  },
  {
   "cell_type": "code",
   "execution_count": 107,
   "metadata": {},
   "outputs": [
    {
     "data": {
      "text/plain": [
       "<tf.Tensor: shape=(524288,), dtype=float32, numpy=array([0., 0., 0., ..., 0., 0., 0.], dtype=float32)>"
      ]
     },
     "execution_count": 107,
     "metadata": {},
     "output_type": "execute_result"
    }
   ],
   "source": [
    "# F_x: the final feature vector of the source image x,\n",
    "# 1. flatten the F_c_x into a vector; here just squeeze into a 512*1024 vector\n",
    "#    the original MADA uses some sort of avgpool2D to get a vector of size 256\n",
    "#.   We can possibly use tf.image.resize(), but the input is a 4-D tensor of [batch, height, width, channels]\n",
    "# 2. F_x = [c, v(F_c_x)], shape = (num_class, F_c_x flattened size)\n",
    "tf.reshape(F_c_x, [-1])"
   ]
  },
  {
   "cell_type": "markdown",
   "metadata": {},
   "source": [
    "In summary, the feature generation step should look like:\n",
    "```python\n",
    "# shape = (number of images, (10 x vector size))\n",
    "full_objective_vector = np.zeros([len(source_data), 20, vector_size]) \n",
    "for i_iter, image, label in source_data:\n",
    "    f_E = deeplabv3(image)\n",
    "    F_x = np.zeros(20, vector_size) # feature map for this image\n",
    "    for c in range(0,19): # 20 classes\n",
    "        F_c_x = tf.math.multiply(f_E[:,:,:,c], label[:,:,:,c]) / np.sum(label[:,:,:,c])\n",
    "        F_c_x = tf.reshape(F_c_x, [-1])\n",
    "        F_x[c] = F_c_x\n",
    "    full_objective_vector[i_iter, :] = F_x[:]\n",
    "```\n",
    "The `full_objective_vector` is the feature map on the entire dataset. It can be saved to a file to later usages. "
   ]
  },
  {
   "cell_type": "markdown",
   "metadata": {},
   "source": [
    "### Clustering Anchors\n",
    "\n",
    "After we have the full_objective_vector, we use the k-means method to group feature vectors of all source images into **k** clusters. \n",
    "\n",
    "![cluster-formula](images/cluster-formula.png)\n",
    "\n",
    "The A_k is the centroid of cluster Ck. It is the source domain anchor, against which the target images will be compared for active sample selection. \n",
    "\n",
    "![anchor-formula](images/anchor-formula.png)"
   ]
  },
  {
   "cell_type": "markdown",
   "metadata": {},
   "source": [
    "## Step 3: Loading Replay Buffer\n",
    "\n",
    "Load the replay buffer from the source data, which stores a portion of previously seen data."
   ]
  },
  {
   "cell_type": "code",
   "execution_count": 9,
   "metadata": {},
   "outputs": [
    {
     "name": "stdout",
     "output_type": "stream",
     "text": [
      "36.719534158706665\n",
      "4993\n"
     ]
    }
   ],
   "source": [
    "import replay_buffer_utils as rb_utils\n",
    "\n",
    "start_time = time.time()\n",
    "source_domain_portion = 0.1\n",
    "replay_buffer = rb_utils.replay_buffer(source_data_dir, source_domain_portion)\n",
    "print(time.time() - start_time)\n",
    "print(replay_buffer.capacity)"
   ]
  },
  {
   "cell_type": "markdown",
   "metadata": {},
   "source": [
    "## Step 4: Continous adaptation to the target domain\n",
    "\n",
    "Set up the train/loss computation on target domain and perform training"
   ]
  },
  {
   "cell_type": "code",
   "execution_count": 10,
   "metadata": {},
   "outputs": [
    {
     "name": "stdout",
     "output_type": "stream",
     "text": [
      "(None, 512, 1024, 3)\n",
      "(None, 512, 1024, 3)\n",
      "(None, 512, 1024, 20)\n",
      "(100, 20)\n"
     ]
    },
    {
     "name": "stderr",
     "output_type": "stream",
     "text": [
      "/global/homes/z/zuang99/.conda/envs/MAS/lib/python3.6/site-packages/tensorflow/python/framework/indexed_slices.py:434: UserWarning: Converting sparse IndexedSlices to a dense Tensor of unknown shape. This may consume a large amount of memory.\n",
      "  \"Converting sparse IndexedSlices to a dense Tensor of unknown shape. \"\n"
     ]
    }
   ],
   "source": [
    "importlib.reload(wasserstein_utils)\n",
    "\n",
    "Z_s = tf.keras.layers.Input(shape=(img_shape[0], img_shape[1], 3,) )\n",
    "Y_s = tf.keras.backend.placeholder(shape=(None, img_shape[0], img_shape[1], num_classes), dtype='float32') #labels of input images oneHot\n",
    "lambda2 = 5e-1\n",
    "\n",
    "loss_function = losses.weighted_ce_loss(num_classes, 0)\n",
    "wce_loss = loss_function(Y_s, classifier(deeplabv3(Z_s)), from_logits=False)\n",
    "\n",
    "# Wasserstein matcing loss\n",
    "theta = tf.keras.backend.placeholder(shape = (num_projections, num_classes), dtype='float32')\n",
    "matching_loss = wasserstein_utils.sWasserstein_hd(deeplabv3(X), deeplabv3(Z_s), theta, nclass=num_classes, Cp=None, Cq=None,)\n",
    "\n",
    "# Overall loss is a weighted combination of the two losses\n",
    "total_loss = wce_loss + lambda2*matching_loss\n",
    "\n",
    "params = deeplabv3.trainable_weights + classifier.trainable_weights\n",
    "\n",
    "# Optimizer and training setup\n",
    "opt = tf.keras.optimizers.Adam(lr=1e-4, epsilon=1e-6, decay=1e-6)\n",
    "print(X.shape)\n",
    "print(Z_s.shape)\n",
    "print(Y_s.shape)\n",
    "print(theta.shape)\n",
    "\n",
    "updates = opt.get_updates(total_loss, params)\n",
    "train = tf.keras.backend.function(inputs=[X,Z_s,Y_s,theta], outputs=[total_loss, wce_loss, matching_loss], updates=updates)"
   ]
  },
  {
   "cell_type": "code",
   "execution_count": 11,
   "metadata": {},
   "outputs": [],
   "source": [
    "loss = []\n",
    "target_miou = []\n",
    "\n",
    "deeplabv3.load_weights(fn_w_dlv3)\n",
    "classifier.load_weights(fn_w_cls)"
   ]
  },
  {
   "cell_type": "markdown",
   "metadata": {
    "tags": []
   },
   "source": [
    "## Active target sample selection against source anchors\n",
    "\n",
    "In this adaptation to target step, we should perform the active sample selection, using the following formula.\n",
    "\n",
    "![target-sample-selection](images/target-sample-selection.png)"
   ]
  },
  {
   "cell_type": "code",
   "execution_count": 12,
   "metadata": {},
   "outputs": [
    {
     "name": "stdout",
     "output_type": "stream",
     "text": [
      "9533.819923877716\n"
     ]
    },
    {
     "data": {
      "image/png": "[encoded data removed]",
      "text/plain": [
       "<Figure size 1080x720 with 2 Axes>"
      ]
     },
     "metadata": {
      "needs_background": "light"
     },
     "output_type": "display_data"
    }
   ],
   "source": [
    "start_time = time.time()\n",
    "\n",
    "\n",
    "fig,ax=plt.subplots(2,figsize=(15,10))\n",
    "\n",
    "batch_size = 1\n",
    "\n",
    "thres = .99\n",
    "epochs2 = 1200\n",
    "epochstep = 100\n",
    "\n",
    "for itr in range(epochs2):\n",
    "    if (itr % 100 == 0):\n",
    "        print(itr)\n",
    "    target_train_data, target_train_labels = utils.sample_batch(cityscapes_data_dir, batch_size=batch_size, seed=itr)\n",
    "    \n",
    "    # make sure the #samples from gaussians match the distribution of the labels\n",
    "    n_samples = np.zeros(num_classes, dtype=int)\n",
    "    cls, ns = np.unique(target_train_labels, return_counts=True)\n",
    "    for i in range(len(cls)):\n",
    "        if cls[i] == 0:\n",
    "            continue\n",
    "        n_samples[cls[i]] = ns[i]\n",
    "\n",
    "    if np.sum(n_samples) % np.prod(img_shape) != 0:\n",
    "        remaining = np.prod(img_shape[:-1]) - np.sum(n_samples) % np.prod(img_shape[:-1])\n",
    "\n",
    "        aux = np.copy(n_samples) / np.sum(n_samples)\n",
    "        aux *= remaining\n",
    "        aux = np.floor(aux).astype('int')\n",
    "        \n",
    "        n_samples += aux\n",
    "\n",
    "        # in case there are extra samples left, dump them on the highest represented class\n",
    "        n_samples[np.argmax(n_samples)] += remaining - np.sum(aux)\n",
    "    \n",
    "    ###   replay buffer photo version    \n",
    "    X, Y = rb_utils.random_sample_replay(replay_buffer, 1)\n",
    "    Y = tf.keras.utils.to_categorical(Y, num_classes=num_classes)\n",
    "    theta_instance = tf.keras.backend.variable(wasserstein_utils.generateTheta(num_projections,num_classes))\n",
    "    # print(X.shape)\n",
    "    # print(Y.shape)\n",
    "    loss.append(train(inputs=[target_train_data, X, Y, theta_instance]))\n",
    "    ###   replay buffer photo version ends here\n",
    "    \n",
    "    target_miou.append(combined_.evaluate(target_train_data, target_train_labels, verbose=False)[-1] * 20/19)\n",
    "    \n",
    "    if itr%epochstep==0:\n",
    "        # Debug info. First, the mIoU. Second, the categorical CE loss (ignoring class weights and containing) \n",
    "        # the ignore class\n",
    "        if itr != 0:\n",
    "            ax[0].clear()\n",
    "            \n",
    "            ll = np.asarray(loss)\n",
    "            ax[0].plot(ll[:,0], label='total loss')\n",
    "            ax[0].plot(ll[:,1], label='ce loss')\n",
    "            ax[0].plot(ll[:,2] * lambda2, label='wasserstein loss')\n",
    "            ax[0].legend()\n",
    "            \n",
    "        ax[0].set_title(\"Loss\")\n",
    "        ax[0].set_xlabel(\"Epochs\")\n",
    "        ax[0].set_ylabel(\"Loss\")\n",
    "        \n",
    "        if itr != 0:\n",
    "            ax[1].clear()\n",
    "            ax[1].plot(np.asarray(target_miou))\n",
    "        \n",
    "        ax[1].set_title(\"MIOU on target domain\")\n",
    "        ax[1].set_xlabel(\"Epochs\")\n",
    "        ax[1].set_ylabel(\"Mean IOU\")\n",
    "        \n",
    "        display.display(plt.gcf())\n",
    "        display.clear_output(wait=True)\n",
    "        \n",
    "        time.sleep(1e-3)\n",
    "    \n",
    "print(time.time() - start_time)"
   ]
  },
  {
   "cell_type": "code",
   "execution_count": 13,
   "metadata": {},
   "outputs": [
    {
     "name": "stdout",
     "output_type": "stream",
     "text": [
      "road 0.8969252263565725\n",
      "sidewalk 0.791973061315036\n",
      "building 0.6937540331029338\n",
      "wall 0.3196389810845718\n",
      "fence 0.48920540623954084\n",
      "pole 0.5495385742180461\n",
      "traffic light 0.62543947230715\n",
      "traffic sign 0.5460324315708157\n",
      "vegetation 0.8223499398028953\n",
      "terrain 0.6412613449909258\n",
      "sky 0.9346188256674707\n",
      "person 0.6581309194028496\n",
      "rider 0.4646612500793929\n",
      "car 0.5383507866421012\n",
      "truck 0.776287678824603\n",
      "bus 0.613043302361334\n",
      "train 0.4435616798465766\n",
      "motorcycle 0.46090523262007327\n",
      "bicycle 0.36386763327572585\n",
      "0.6120813568267691\n",
      "Computed GTA5 mIoU in 9242.788471460342\n"
     ]
    }
   ],
   "source": [
    "import utils\n",
    "importlib.reload(utils)\n",
    "\n",
    "start_time = time.time()\n",
    "\n",
    "source_cat_iou,source_miou = utils.compute_miou(source_data_dir, combined_, data_utils.label_ids_19, 0)\n",
    "\n",
    "for k in source_cat_iou:\n",
    "    print(k, source_cat_iou[k])\n",
    "print(source_miou)\n",
    "\n",
    "print('Computed ' + dataset + ' mIoU in', time.time() - start_time)\n",
    "\n",
    "# road 0.6675523660118785\n",
    "# sidewalk 0.28336359271439726\n",
    "# building 0.6076388775470897\n",
    "# wall 0.2672064026700072\n",
    "# fence 0.17232300484931942\n",
    "# pole 0.2735294951039704\n",
    "# traffic light 0.32147051090247314\n",
    "# traffic sign 0.07400171986539407\n",
    "# vegetation 0.5965591779805058\n",
    "# terrain 0.2889806932148324\n",
    "# sky 0.8603173835723591\n",
    "# person 0.3489449704700763\n",
    "# rider 0.17189785226832072\n",
    "# car 0.5761907340114261\n",
    "# truck 0.2955718142857747\n",
    "# bus 0.14318027819603177\n",
    "# train 0.033001835642511974\n",
    "# motorcycle 0.12385339561083183\n",
    "# bicycle 0.025308995240981697\n",
    "# 0.3226785842188517\n",
    "# Computed GTA5 mIoU in 1957.6215891838074"
   ]
  },
  {
   "cell_type": "code",
   "execution_count": 14,
   "metadata": {},
   "outputs": [
    {
     "name": "stdout",
     "output_type": "stream",
     "text": [
      "road 0.7294519270466135\n",
      "sidewalk 0.12274543676326749\n",
      "building 0.5119485094726066\n",
      "wall 0.08462184602938219\n",
      "fence 0.09791119107201429\n",
      "pole 0.2602157707759973\n",
      "traffic light 0.1579686966466059\n",
      "traffic sign 0.061069546117202445\n",
      "vegetation 0.35594581035067885\n",
      "terrain 0.12886132128308714\n",
      "sky 0.3016382816646777\n",
      "person 0.12176573520736395\n",
      "rider 0.013707600591330645\n",
      "car 0.3034960570373347\n",
      "truck 0.0432615610418868\n",
      "bus 0.004369816385476659\n",
      "train 5.9086822487947065e-06\n",
      "motorcycle 0.06139595578873575\n",
      "bicycle 0.02287066643255707\n",
      "0.1780658757046878\n",
      "Computed CITYSCAPES mIoU in 1087.3808329105377\n"
     ]
    }
   ],
   "source": [
    "start_time = time.time()\n",
    "\n",
    "cit_cat_iou,cit_miou = utils.compute_miou(cityscapes_data_dir, combined_, data_utils.label_ids_19, 0)\n",
    "\n",
    "for k in cit_cat_iou:\n",
    "    print(k, cit_cat_iou[k])\n",
    "print(cit_miou)\n",
    "\n",
    "print('Computed CITYSCAPES mIoU in', time.time() - start_time)\n",
    "\n",
    "# road 0.7883116582422506\n",
    "# sidewalk 0.6215464735885322\n",
    "# building 0.751691007583865\n",
    "# wall 0.3993120030432491\n",
    "# fence 0.39173486089325144\n",
    "# pole 0.302509334397975\n",
    "# traffic light 0.3019573318279201\n",
    "# traffic sign 0.38603017233885695\n",
    "# vegetation 0.7792104073113252\n",
    "# terrain 0.484321694588526\n",
    "# sky 0.8323752669785053\n",
    "# person 0.5206867614087272\n",
    "# rider 0.2377222662760571\n",
    "# car 0.8020324193022697\n",
    "# truck 0.4754062370048565\n",
    "# bus 0.593789975462107\n",
    "# train 0.5966522990567177\n",
    "# motorcycle 0.3119814031424603\n",
    "# bicycle 0.47793033593638945\n",
    "# 0.5292211530728338\n",
    "# Computed CITYSCAPES mIoU in 232.43373942375183"
   ]
  },
  {
   "cell_type": "code",
   "execution_count": 15,
   "metadata": {},
   "outputs": [
    {
     "name": "stdout",
     "output_type": "stream",
     "text": [
      "road 0.7398598351457689\n",
      "sidewalk 0.13151706321661094\n",
      "building 0.49606467370112206\n",
      "wall 0.08829448440694314\n",
      "fence 0.05638433389146027\n",
      "pole 0.2820310908664354\n",
      "traffic light 0.1659301336670999\n",
      "traffic sign 0.05292539991166199\n",
      "vegetation 0.37256328634427144\n",
      "terrain 0.09888383095229418\n",
      "sky 0.24418270611893134\n",
      "person 0.1250452976941772\n",
      "rider 0.01125088433401075\n",
      "car 0.31327977978717403\n",
      "truck 0.042247518182627314\n",
      "bus 0.001444872887055553\n",
      "train 0.0\n",
      "motorcycle 0.0491935618799043\n",
      "bicycle 0.025659172877507377\n",
      "0.1735135750455293\n",
      "Computed CITYSCAPES mIoU in 185.74409079551697\n"
     ]
    }
   ],
   "source": [
    "start_time = time.time()\n",
    "\n",
    "cit_cat_iou,cit_miou = utils.compute_miou(cityscapes_val_dir, combined_, data_utils.label_ids_19, 0)\n",
    "\n",
    "for k in cit_cat_iou:\n",
    "    print(k, cit_cat_iou[k])\n",
    "print(cit_miou)\n",
    "\n",
    "print('Computed CITYSCAPES mIoU in', time.time() - start_time)\n",
    "\n",
    "# road 0.7544163600114073\n",
    "# sidewalk 0.5308953550336675\n",
    "# building 0.717284542680233\n",
    "# wall 0.23788752577432637\n",
    "# fence 0.23876931970965581\n",
    "# pole 0.30541033061844014\n",
    "# traffic light 0.26957407403015937\n",
    "# traffic sign 0.376477515173791\n",
    "# vegetation 0.7753905145446299\n",
    "# terrain 0.34884060225349456\n",
    "# sky 0.7869146824909259\n",
    "# person 0.4745299170266906\n",
    "# rider 0.1876271570458875\n",
    "# car 0.7709355490558467\n",
    "# truck 0.22249057345069\n",
    "# bus 0.44033013386788367\n",
    "# train 0.2018302023064041\n",
    "# motorcycle 0.14355169668014212\n",
    "# bicycle 0.48504701470377987\n",
    "# 0.43516858244516077\n",
    "# Computed CITYSCAPES mIoU in 41.712018966674805"
   ]
  },
  {
   "cell_type": "code",
   "execution_count": 16,
   "metadata": {},
   "outputs": [],
   "source": [
    "deeplabv3.save_weights(fn_w_adapted_dlv3)\n",
    "classifier.save_weights(fn_w_adapted_cls)"
   ]
  },
  {
   "cell_type": "code",
   "execution_count": null,
   "metadata": {},
   "outputs": [],
   "source": []
  }
 ],
 "metadata": {
  "kernelspec": {
   "display_name": "accda",
   "language": "python",
   "name": "accda"
  },
  "language_info": {
   "codemirror_mode": {
    "name": "ipython",
    "version": 3
   },
   "file_extension": ".py",
   "mimetype": "text/x-python",
   "name": "python",
   "nbconvert_exporter": "python",
   "pygments_lexer": "ipython3",
   "version": "3.6.13"
  }
 },
 "nbformat": 4,
 "nbformat_minor": 4
}
