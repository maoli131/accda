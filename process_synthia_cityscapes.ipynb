{
 "cells": [
  {
   "cell_type": "code",
   "execution_count": 1,
   "metadata": {},
   "outputs": [],
   "source": [
    "import numpy as np"
   ]
  },
  {
   "cell_type": "code",
   "execution_count": 2,
   "metadata": {},
   "outputs": [],
   "source": [
    "import tensorflow as tf\n",
    "\n",
    "from tensorflow.keras.applications.imagenet_utils import preprocess_input"
   ]
  },
  {
   "cell_type": "code",
   "execution_count": 3,
   "metadata": {},
   "outputs": [],
   "source": [
    "import data_utils\n",
    "\n",
    "import importlib\n",
    "\n",
    "import time"
   ]
  },
  {
   "cell_type": "code",
   "execution_count": 4,
   "metadata": {},
   "outputs": [],
   "source": [
    "# (width, height) format\n",
    "img_shape = (1024, 512)"
   ]
  },
  {
   "cell_type": "code",
   "execution_count": 16,
   "metadata": {},
   "outputs": [
    {
     "name": "stdout",
     "output_type": "stream",
     "text": [
      "Processing images took 749.9189162254333\n"
     ]
    }
   ],
   "source": [
    "importlib.reload(data_utils)\n",
    "\n",
    "start_time = time.time()\n",
    "\n",
    "data_utils.process_synthia(img_shape = (1024,512), \\\n",
    "                 img_dir = \"./data/SYNTHIA/RGB/\", \\\n",
    "                 label_dir = \"./data/SYNTHIA/GT/LABELS/\", \\\n",
    "                 target_dir = \"./processed-data/1024x512/13_classes/SYNTHIA/train/\", \\\n",
    "                 target_label_ids = data_utils.label_ids_13)\n",
    "\n",
    "print(\"Processing SYNTHIA images took\", time.time() - start_time)"
   ]
  },
  {
   "cell_type": "code",
   "execution_count": 42,
   "metadata": {},
   "outputs": [
    {
     "name": "stdout",
     "output_type": "stream",
     "text": [
      "Processing images took 304.72345757484436\n"
     ]
    }
   ],
   "source": [
    "importlib.reload(data_utils)\n",
    "\n",
    "start_time = time.time()\n",
    "\n",
    "data_utils.process_cityscapes(img_shape = (1024,512), \\\n",
    "                 img_dir = \"./data/CITYSCAPES/images/train/\", \\\n",
    "                 label_dir = \"./data/CITYSCAPES/labels/train/\", \\\n",
    "                 target_dir = \"./processed-data/1024x512/13_classes/CITYSCAPES/train/\", \\\n",
    "                 target_label_ids = data_utils.label_ids_13)\n",
    "\n",
    "print(\"Processing CITYSCAPES images took\", time.time() - start_time)"
   ]
  },
  {
   "cell_type": "code",
   "execution_count": 43,
   "metadata": {},
   "outputs": [
    {
     "name": "stdout",
     "output_type": "stream",
     "text": [
      "Processing CITYSCAPES validation images took 50.788503646850586\n"
     ]
    }
   ],
   "source": [
    "importlib.reload(data_utils)\n",
    "\n",
    "start_time = time.time()\n",
    "\n",
    "data_utils.process_cityscapes(img_shape = (1024,512), \\\n",
    "                 img_dir = \"./data/CITYSCAPES/images/val/\", \\\n",
    "                 label_dir = \"./data/CITYSCAPES/labels/val/\", \\\n",
    "                 target_dir = \"./processed-data/1024x512/13_classes/CITYSCAPES/val/\", \\\n",
    "                 target_label_ids = data_utils.label_ids_13)\n",
    "\n",
    "print(\"Processing CITYSCAPES validation images took\", time.time() - start_time)"
   ]
  },
  {
   "cell_type": "code",
   "execution_count": 44,
   "metadata": {},
   "outputs": [
    {
     "name": "stdout",
     "output_type": "stream",
     "text": [
      "Processing CITYSCAPES test images took 150.43802189826965\n"
     ]
    }
   ],
   "source": [
    "importlib.reload(data_utils)\n",
    "\n",
    "start_time = time.time()\n",
    "\n",
    "data_utils.process_cityscapes(img_shape = (1024,512), \\\n",
    "                 img_dir = \"./data/CITYSCAPES/images/test/\", \\\n",
    "                 label_dir = \"./data/CITYSCAPES/labels/test/\", \\\n",
    "                 target_dir = \"./processed-data/1024x512/13_classes/CITYSCAPES/test/\", \\\n",
    "                 target_label_ids = data_utils.label_ids_13)\n",
    "\n",
    "print(\"Processing CITYSCAPES test images took\", time.time() - start_time)"
   ]
  },
  {
   "cell_type": "code",
   "execution_count": null,
   "metadata": {},
   "outputs": [],
   "source": []
  },
  {
   "cell_type": "code",
   "execution_count": null,
   "metadata": {},
   "outputs": [],
   "source": []
  }
 ],
 "metadata": {
  "kernelspec": {
   "display_name": "Python 3",
   "language": "python",
   "name": "python3"
  },
  "language_info": {
   "codemirror_mode": {
    "name": "ipython",
    "version": 3
   },
   "file_extension": ".py",
   "mimetype": "text/x-python",
   "name": "python",
   "nbconvert_exporter": "python",
   "pygments_lexer": "ipython3",
   "version": "3.8.3"
  }
 },
 "nbformat": 4,
 "nbformat_minor": 4
}
